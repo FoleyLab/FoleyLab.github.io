{
  "nbformat": 4,
  "nbformat_minor": 0,
  "metadata": {
    "kernelspec": {
      "display_name": "Python 3",
      "language": "python",
      "name": "python3"
    },
    "language_info": {
      "codemirror_mode": {
        "name": "ipython",
        "version": 3
      },
      "file_extension": ".py",
      "mimetype": "text/x-python",
      "name": "python",
      "nbconvert_exporter": "python",
      "pygments_lexer": "ipython3",
      "version": "3.7.4"
    },
    "colab": {
      "name": "Linear Variational Method.ipynb",
      "provenance": [],
      "include_colab_link": true
    }
  },
  "cells": [
    {
      "cell_type": "markdown",
      "metadata": {
        "id": "view-in-github",
        "colab_type": "text"
      },
      "source": [
        "<a href=\"https://colab.research.google.com/github/FoleyLab/FoleyLab.github.io/blob/master/notebooks/Linear_Variational_Method.ipynb\" target=\"_parent\"><img src=\"https://colab.research.google.com/assets/colab-badge.svg\" alt=\"Open In Colab\"/></a>"
      ]
    },
    {
      "cell_type": "markdown",
      "metadata": {
        "id": "ilkjfsvp7zK3",
        "colab_type": "text"
      },
      "source": [
        "# Linear Variational Principle\n",
        "This notebook demonstrates the Linear Variational Method to the particle in a box of length $L = 10$ atomic units \n",
        "with a delta function potential centered at $x_0=5$ atomic units.  This notebook will attempt to show graphically why inclusion of excited-states of the ordinary particle in a box system can improve the energy of the particle in a box with a delta potential.  \n",
        "\n",
        "# The approach\n",
        "We will optimize\n",
        "the trial wavefunction given by \n",
        "\\begin{equation}\n",
        "\\Phi(x) = \\sum_{n=1}^N c_n \\psi_n(x)\n",
        "\\end{equation}\n",
        "where the coefficients $c_n$ are real numbers\n",
        "and $\\psi_n(x)$ are the energy eigenfunctions of the particle in a box with no potential:\n",
        "\\begin{equation}\n",
        "\\psi_n(x) = \\sqrt{\\frac{2}{L} } {\\rm sin}\\left(\\frac{n \\pi x}{L} \\right).\n",
        "\\end{equation}\n",
        "\n",
        "We will seek to minimize the energy functional through the expansion coefficients, where the\n",
        "energy functional can be written as\n",
        "\\begin{equation}\n",
        "E[\\Phi(x)] = \\frac{\\int_0^{L} \\Phi^* (x) \\: \\hat{H} \\: \\Phi(x) dx }{\\int_0^{L} \\Phi^* (x) \\: \\Phi(x) dx }.\n",
        "\\end{equation}\n",
        "\n",
        "\n",
        "The Hamiltonian operator in the box is given by \n",
        "\\begin{equation}\n",
        "\\hat{H} = -\\frac{\\hbar^2}{2M} \\frac{d^2}{dx^2} + \\delta(x-x_0);\n",
        "\\end{equation}\n",
        "in natural units, $\\hbar$ and the electron mass $M$ are equal to 1.\n",
        "\n",
        "$E[\\Phi(x)]$ can be expanded as\n",
        "\\begin{equation}\n",
        "E[\\Phi(x)] \\sum_{n=1}^N \\sum_{m=1}^N c_n c_m S_{nm} = \\sum_{n=1}^N \\sum_{m=1}^N c_n c_m H_{nm}\n",
        "\\end{equation}\n",
        "where \n",
        "\\begin{equation}\n",
        "S_{nm} = \\int_0^L \\psi_n(x) \\psi_m(x) dx = \\delta_{nm}\n",
        "\\end{equation}\n",
        "and\n",
        "\\begin{equation}\n",
        "H_{nm} = \\int_0^L \\psi_n(x) \\hat{H} \\psi_m(x) dx. \n",
        "\\end{equation}\n",
        "\n",
        "Solving this equation can be seen to be identical to diagonalizing the matrix ${\\bf H}$, whose elements are $H_{nm}$ to obtain energy eigenvalues $E$ and eigenvectors ${\\bf c}$.  The lowest eigenvalue corresponds to the variational ground state energy, and the corresponding eigenvector can be\n",
        "used to expand the variational ground state wavefunction through Equation 1.\n",
        "\n",
        "# Computing elements of the matrix\n",
        "We can work out a general expression for the integrals $H_{nm}$:\n",
        "\\begin{equation}\n",
        "H_{nm} = \\frac{\\hbar^2 \\pi^2 n^2}{2 M L^2} \\delta_{nm} + \\frac{2}{L} {\\rm sin}\\left( \\frac{n \\pi x_0}{L} \\right) {\\rm sin}\\left( \\frac{m\\pi x_0}{L} \\right).\n",
        "\\end{equation}\n"
      ]
    },
    {
      "cell_type": "markdown",
      "metadata": {
        "id": "wJUuEvwq8dac",
        "colab_type": "text"
      },
      "source": [
        "Import NumPy and PyPlot libraries"
      ]
    },
    {
      "cell_type": "code",
      "metadata": {
        "id": "-Z6G6UT97zK6",
        "colab_type": "code",
        "colab": {}
      },
      "source": [
        "import numpy as np\n",
        "from matplotlib import pyplot as plt\n",
        "from scipy import signal\n"
      ],
      "execution_count": null,
      "outputs": []
    },
    {
      "cell_type": "markdown",
      "metadata": {
        "id": "fuVh78XG8UHK",
        "colab_type": "text"
      },
      "source": [
        "Write a function that computes the matrix elements $H_{ij}$ given quantum numbers $i$ and $j$, length of the box $L$, and location of the delta function $x_0$.  We will assume atomic units where $\\hbar = 1$ and $M = 1$."
      ]
    },
    {
      "cell_type": "code",
      "metadata": {
        "id": "-LdfB2jg8MQo",
        "colab_type": "code",
        "colab": {}
      },
      "source": [
        "### Function to return integrals involving Hamiltonian and basis functions\n",
        "def H_nm(n, m, L, x0):\n",
        "  ''' We will use the expression for Hnm along with given values of L and x_0 \n",
        "      to compute the elements of the Hamiltonian matrix '''\n",
        "  if n==m:\n",
        "    ham_int = np.pi**2 * m**2/(2 * L**2) + (2/L) * np.sin(n*np.pi*x0/L) * np.sin(m*np.pi*x0/L)\n",
        "  else:\n",
        "    ham_int = (2/L) * np.sin(n*np.pi*x0/L) * np.sin(m*np.pi*x0/L)\n",
        "    \n",
        "  return ham_int\n",
        "\n",
        "def psi_n(n, L, x):\n",
        "  return np.sqrt(2/L) * np.sin(n * np.pi * x/L)"
      ],
      "execution_count": null,
      "outputs": []
    },
    {
      "cell_type": "markdown",
      "metadata": {
        "id": "MftnfKXK7zLA",
        "colab_type": "text"
      },
      "source": [
        "Next we will create a numpy array called $H_{mat}$ that can be used to store the Hamiltonian matrix elements.  We can start by considering a trial wavefunction that is an expansion of the first 3 PIB energy eigenfunctions, so our Hamiltonian in this case should be a 3x3 numpy array."
      ]
    },
    {
      "cell_type": "code",
      "metadata": {
        "id": "rTj-sski7zLB",
        "colab_type": "code",
        "colab": {}
      },
      "source": [
        "dim = 3\n",
        "H_mat = np.zeros((dim,dim))"
      ],
      "execution_count": null,
      "outputs": []
    },
    {
      "cell_type": "markdown",
      "metadata": {
        "id": "TKsI15vZ7zLF",
        "colab_type": "text"
      },
      "source": [
        "You can use two nested $for$ loops along with your $H_{ij}$ function to fill out the values of this matrix.  Note that the indices for numpy arrays start from zero while the quantum numbers for our system start from 1, so we must offset our quantum numbers by +1 relative to our numpy array indices."
      ]
    },
    {
      "cell_type": "code",
      "metadata": {
        "id": "zHPke-hQ7zLG",
        "colab_type": "code",
        "colab": {
          "base_uri": "https://localhost:8080/",
          "height": 68
        },
        "outputId": "4756088f-787b-41bd-a40d-ef015e16bc25"
      },
      "source": [
        "### define L to be 10 and x0 to be 5\n",
        "L = 10\n",
        "x0 = 5\n",
        "### loop over indices of the basis you are expanding in\n",
        "### and compute and store the corresponding Hamiltonian matrix elements\n",
        "for n in range(0,dim):\n",
        "    for m in range(0,dim):\n",
        "        H_mat[n,m] = H_nm(n+1, m+1, L, x0)\n",
        "\n",
        "### Print the resulting Hamiltonian matrix\n",
        "print(H_mat)"
      ],
      "execution_count": null,
      "outputs": [
        {
          "output_type": "stream",
          "text": [
            "[[ 2.49348022e-01  2.44929360e-17 -2.00000000e-01]\n",
            " [ 2.44929360e-17  1.97392088e-01 -2.44929360e-17]\n",
            " [-2.00000000e-01 -2.44929360e-17  6.44132198e-01]]\n"
          ],
          "name": "stdout"
        }
      ]
    },
    {
      "cell_type": "code",
      "metadata": {
        "id": "PI2X2GcIC_L4",
        "colab_type": "code",
        "colab": {
          "base_uri": "https://localhost:8080/",
          "height": 51
        },
        "outputId": "9c81b446-3efc-4195-b262-0bd0c239955d"
      },
      "source": [
        "### compute eigenvalues and eigenvectors of H_mat\n",
        "### store eigenvalues to E_vals and eigenvectors to c\n",
        "E_vals, c = np.linalg.eig(H_mat)\n",
        "\n",
        "### The eigenvalues will not necessarily be sorted from lowest-to-highest; this step will sort them!\n",
        "idx = E_vals.argsort()[::1]\n",
        "E_vals = E_vals[idx]\n",
        "c = c[:,idx]\n",
        "\n",
        "### print lowest eigenvalues corresponding to the \n",
        "### variational estimate of the ground state energy\n",
        "print(\"Ground state energy with potential is approximately \",E_vals[0])\n",
        "print(\"Ground state energy of PIB is \",np.pi**2/(200))"
      ],
      "execution_count": null,
      "outputs": [
        {
          "output_type": "stream",
          "text": [
            "Ground state energy with potential is approximately  0.16573541893898724\n",
            "Ground state energy of PIB is  0.04934802200544679\n"
          ],
          "name": "stdout"
        }
      ]
    },
    {
      "cell_type": "markdown",
      "metadata": {
        "id": "WRRVQ-UyO4Zz",
        "colab_type": "text"
      },
      "source": [
        "Let's plot the first few eigenstates of the ordinary PIB against the potential:"
      ]
    },
    {
      "cell_type": "code",
      "metadata": {
        "id": "Mxa1qqWkQVFe",
        "colab_type": "code",
        "colab": {
          "base_uri": "https://localhost:8080/",
          "height": 265
        },
        "outputId": "5e4f374b-ff1b-48a6-e86f-4c699087ee8c"
      },
      "source": [
        "### array of x-values\n",
        "x = np.linspace(0,L,100)\n",
        "### first 3 energy eigenstates of ordinary PIB\n",
        "psi_1 = psi_n(1, L, x)\n",
        "psi_2 = psi_n(2, L, x)\n",
        "psi_3 = psi_n(3, L, x)\n",
        "Vx = signal.unit_impulse(100,50)\n",
        "\n",
        "plt.plot(x, psi_1, 'orange', label='$\\psi_1$')\n",
        "plt.plot(x, psi_2, 'green', label='$\\psi_2$')\n",
        "plt.plot(x, psi_3, 'blue', label='$\\psi_3$')\n",
        "plt.plot(x, Vx, 'purple', label='V(x)')\n",
        "plt.legend()\n",
        "plt.show()"
      ],
      "execution_count": null,
      "outputs": [
        {
          "output_type": "display_data",
          "data": {
            "image/png": "[encoded data removed]",
            "text/plain": [
              "<Figure size 432x288 with 1 Axes>"
            ]
          },
          "metadata": {
            "tags": [],
            "needs_background": "light"
          }
        }
      ]
    },
    {
      "cell_type": "markdown",
      "metadata": {
        "id": "fRAvYoLMQfNb",
        "colab_type": "text"
      },
      "source": [
        "Now let's plot the probability density associated with the first three eigenstates along with the probability density of the variational solution against the potential:"
      ]
    },
    {
      "cell_type": "code",
      "metadata": {
        "id": "u-OsuZ4XEOz_",
        "colab_type": "code",
        "colab": {
          "base_uri": "https://localhost:8080/",
          "height": 265
        },
        "outputId": "6fc6fe72-23ad-4055-ad5d-2935884d80f3"
      },
      "source": [
        "Phi = c[0,0]*psi_1 + c[1,0]*psi_2 + c[2,0]*psi_3\n",
        "\n",
        "\n",
        "plt.plot(x, psi_1*psi_1, 'orange', label='$|\\psi_1|^2$')\n",
        "plt.plot(x, psi_2*psi_2, 'green', label='$|\\psi_2|^2$')\n",
        "plt.plot(x, psi_3*psi_3, 'blue', label='$|\\psi_3|^2$')\n",
        "plt.plot(x, Phi*Phi, 'red', label='$|\\Phi|^2$')\n",
        "plt.plot(x, Vx, 'purple', label='V(x)')\n",
        "plt.legend()\n",
        "plt.show()"
      ],
      "execution_count": null,
      "outputs": [
        {
          "output_type": "display_data",
          "data": {
            "image/png": "[encoded data removed]",
            "text/plain": [
              "<Figure size 432x288 with 1 Axes>"
            ]
          },
          "metadata": {
            "tags": [],
            "needs_background": "light"
          }
        }
      ]
    },
    {
      "cell_type": "markdown",
      "metadata": {
        "id": "O-h5uOqx7zLY",
        "colab_type": "text"
      },
      "source": [
        "### Questions To Think About!\n",
        "1.  Is the energy you calculated above higher or lower than the ground state energy of the ordinary particle in a box system (without the delta function potential)?\n",
        "Answer:  The energy calculated to approximate the ground state energy of the PIB + Potential using the linear variational method is higher than the true PIB ground state energy (0.165 atomic units for the PIB + Potential compared to 0.0493 atomic units for the ordinary PIB).  The addition of the potential should increase the ground state energy because it is repulsive.\n",
        "2.  Why do you think mixing in functions that correspond to excited states in the ordinary particle in a box system actually helped to improve (i.e. lower) your energy in the system with the delta function potential?\n",
        "Answer:  Certain excited states (all states with even $n$) go to zero at the center of the box, and the repulsive potential is localized to the center of the box.  Therefore, all excited states with even $n$ will move electron density away from the repulsive potential, which can potentially loer the energy.\n",
        "3.  Increase the number of basis functions to 6 (so that ${\\bf H}$ is a 6x6 matrix and ${\\bf c}$ is a vector with 6 entries) and repeat your calculation of the variational estimate of the ground state energy.  Does the energy improve (lower) compared to what it was when 3 basis functions were used?\n",
        "Answer:  Yes, the energy improves.  With 3 basis functions, the ground state energy is approximated to be 0.165 atomic units and with 6 basis functions, the ground state energy is approximated to be 0.155 atomic units.  The added flexibility of these additional basis functions (specifically more basis functions with $n$ even) allows greater flexibility in optimizing a wavefunction that describes an electron effectively avoiding the repulsive potential in the center of the box."
      ]
    },
    {
      "cell_type": "code",
      "metadata": {
        "id": "X9LmYzIH7zLZ",
        "colab_type": "code",
        "colab": {}
      },
      "source": [
        ""
      ],
      "execution_count": null,
      "outputs": []
    }
  ]
}