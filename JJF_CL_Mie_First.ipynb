{
  "nbformat": 4,
  "nbformat_minor": 0,
  "metadata": {
    "kernelspec": {
      "display_name": "Python 3",
      "language": "python",
      "name": "python3"
    },
    "language_info": {
      "codemirror_mode": {
        "name": "ipython",
        "version": 3
      },
      "file_extension": ".py",
      "mimetype": "text/x-python",
      "name": "python",
      "nbconvert_exporter": "python",
      "pygments_lexer": "ipython3",
      "version": "3.7.3"
    },
    "colab": {
      "name": "JJF_CL_Mie First.ipynb",
      "provenance": [],
      "collapsed_sections": [],
      "include_colab_link": true
    }
  },
  "cells": [
    {
      "cell_type": "markdown",
      "metadata": {
        "id": "view-in-github",
        "colab_type": "text"
      },
      "source": [
        "<a href=\"https://colab.research.google.com/github/FoleyLab/FoleyLab.github.io/blob/master/JJF_CL_Mie_First.ipynb\" target=\"_parent\"><img src=\"https://colab.research.google.com/assets/colab-badge.svg\" alt=\"Open In Colab\"/></a>"
      ]
    },
    {
      "cell_type": "markdown",
      "metadata": {
        "id": "M9sx3VPVR6IA",
        "colab_type": "text"
      },
      "source": [
        "### Mie First\n",
        "Mie theory provides a route to the exact solution to Maxwell's equations for light interacting with a spherical object; this is done by expanding the incident and scattered\n",
        "light waves in a basis of multi-polar functions; hence one usually speaks about the dipolar contribution to scattering, the quadrupolar contribution, the octupolar, and so on.  For very large particles, many orders of this expansion may be needed, but for small particles the scattering and absorption is dominated by the dipolar contribution.  Hence, for spherical nanoparticles that are less than or equal to about 10 nm in diameter, the Mie theory expansion is truncated after only the first term.  As a concrete example, the Mie theory expression for the absorption of a small spherical nanoparticle is as follows:\n",
        "\n",
        "\\begin{equation}\n",
        "\\sigma_{abs}(\\lambda) = \\frac{2 \\pi}{\\lambda} {\\rm Im}\\left( \\alpha(\\lambda) \\right),\n",
        "\\end{equation}\n",
        "where $\\alpha(\\lambda)$ is the dipole polarizability given by\n",
        "\\begin{equation}\n",
        "\\alpha(\\lambda) = 4 \\pi r^3 \\left( \\frac{\\epsilon_p(\\lambda) - \\epsilon_s}{\\epsilon_p(\\lambda) + 2\\epsilon_s} \\right)\n",
        "\\end{equation}\n",
        "where $r$ is the radius of the particle, $\\epsilon_p(\\lambda)$ denotes the wavelength-dependent dielectric function of the material the particle is made from, $\\epsilon_s$ denotes the dielectric function of the surroundings (or solvent) that the particle is immersed in, and ${\\rm Im}$ means we will only take the imaginary part of the quotient (the dielectric function of the particle will typically be complex; if it is not, there will be no absorption).\n",
        "\n",
        "We can use WPTherml to get the refractive index of materials as a function of wavelength, which is equivalent to the dielectric function as a function of wavelength by\n",
        "\\begin{equation}\n",
        "\\epsilon_p(\\lambda) = n_p(\\lambda)^2,\n",
        "\\end{equation}\n",
        "where $n_p(\\lambda)$ is the refractive index of the particle. \n"
      ]
    },
    {
      "cell_type": "code",
      "metadata": {
        "id": "pe-Sqh3-R6IC",
        "colab_type": "code",
        "outputId": "453e0862-a972-4e59-b613-8b8887314c77",
        "colab": {
          "base_uri": "https://localhost:8080/",
          "height": 122
        }
      },
      "source": [
        "pip install wptherml"
      ],
      "execution_count": 1,
      "outputs": [
        {
          "output_type": "stream",
          "text": [
            "Collecting wptherml\n",
            "\u001b[?25l  Downloading https://files.pythonhosted.org/packages/20/2e/484f8af5ba3516407d226cdd2aec810aab905b947d2a4d49c933ae4932e9/wptherml-1.0.0-py3-none-any.whl (1.1MB)\n",
            "\u001b[K     |████████████████████████████████| 1.1MB 2.7MB/s \n",
            "\u001b[?25hInstalling collected packages: wptherml\n",
            "Successfully installed wptherml-1.0.0\n"
          ],
          "name": "stdout"
        }
      ]
    },
    {
      "cell_type": "markdown",
      "metadata": {
        "id": "3bJjeWcSR6II",
        "colab_type": "text"
      },
      "source": [
        ""
      ]
    },
    {
      "cell_type": "code",
      "metadata": {
        "id": "Ltz-obYdR6II",
        "colab_type": "code",
        "outputId": "6e2c5281-1e3c-46a4-b67d-2f1d48d24277",
        "colab": {
          "base_uri": "https://localhost:8080/",
          "height": 551
        }
      },
      "source": [
        "from wptherml.wpml import multilayer\n",
        "from matplotlib import pyplot as plt\n",
        "from wptherml.datalib import datalib\n",
        "import numpy as np\n",
        "from numpy import linalg as LA\n",
        "import math\n",
        "\n",
        "structure = {\n",
        "\n",
        "        'Material_List': ['Air', 'Ag', 'Air'],\n",
        "        'Thickness_List': [0,  200e-9, 0],\n",
        "        'Lambda_List': [200e-9, 700e-9, 2000],\n",
        "     \n",
        "        }\n",
        "\n",
        "### create the silver object - call it sphere for no particular reason\n",
        "sphere = multilayer(structure)\n",
        "### get the refractive index of Ag (since it is layer 1 based on the structure above)\n",
        "n_Ag = sphere.layer_ri(1)\n",
        "### get the dielectric function of Ag\n",
        "eps_Ag = n_Ag * n_Ag\n",
        "\n",
        "plt.plot(sphere.lambda_array*1e9, sphere.emissivity_array)\n",
        "plt.show()\n",
        "\n",
        "### render color of the structure\n",
        "sphere.ambient_color()\n",
        "\n",
        "'''Lets compute the Mie theory absorption of a 3 nm Ag particle in water, which \n",
        "   has refractive index = 1.33, here!'''\n",
        "#r = ### fill in radius here, use meters!\n",
        "#eps_s =  ### fill in dielectric function of water here!\n",
        "#quotient = ### compute the quotient whose Imaginary part you need from Mie theory expression here\n",
        "#alpha = ### compute alpha here\n",
        "#pre = ### compute pre-factor that depends on wavelength and radius here! \n",
        "#sigma_abs = ### compute full absorption spectrum here!\n",
        "\n",
        "#plt.plot(1240/(sphere.lambda_array*1e9), sigma_abs, 'red')###\n",
        "#plt.plot(1240/(sphere.lambda_array*1e9), np.real(alpha), 'red')\n",
        "#plt.plot(1240/(sphere.lambda_array*1e9), np.imag(alpha), 'blue')\n",
        "#plt.xlim(1.5, 4)\n",
        "#plt.show()\n",
        "\n",
        "\n"
      ],
      "execution_count": 4,
      "outputs": [
        {
          "output_type": "stream",
          "text": [
            " Temperature not specified!\n",
            " Proceeding with default T = 300 K\n"
          ],
          "name": "stdout"
        },
        {
          "output_type": "display_data",
          "data": {
            "image/png": "[encoded data removed]",
            "text/plain": [
              "<Figure size 432x288 with 1 Axes>"
            ]
          },
          "metadata": {
            "tags": [],
            "needs_background": "light"
          }
        },
        {
          "output_type": "display_data",
          "data": {
            "image/png": "[encoded data removed]",
            "text/plain": [
              "<Figure size 432x288 with 1 Axes>"
            ]
          },
          "metadata": {
            "tags": []
          }
        },
        {
          "output_type": "execute_result",
          "data": {
            "text/plain": [
              "'Lets compute the Mie theory absorption of a 3 nm Ag particle in water, which \\n   has refractive index = 1.33, here!'"
            ]
          },
          "metadata": {
            "tags": []
          },
          "execution_count": 4
        }
      ]
    }
  ]
}